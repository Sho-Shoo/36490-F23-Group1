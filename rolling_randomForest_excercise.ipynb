{
 "cells": [
  {
   "cell_type": "code",
   "execution_count": 1,
   "metadata": {
    "collapsed": true
   },
   "outputs": [],
   "source": [
    "from classes.data_loader_dt import DataLoader\n",
    "from classes.random_forest import RandomForest\n",
    "from tqdm import tqdm\n",
    "from matplotlib import pyplot"
   ]
  },
  {
   "cell_type": "code",
   "execution_count": 2,
   "metadata": {
    "collapsed": false
   },
   "outputs": [
    {
     "name": "stderr",
     "output_type": "stream",
     "text": [
      "/Users/Lucy/Desktop/cmu/fall2023/36490/36490-F23-Group1/classes/data_loader_dt.py:17: DtypeWarning: Columns (9) have mixed types. Specify dtype option on import or set low_memory=False.\n",
      "  self.data: DataFrame = pd.read_csv(csv_file_path)\n"
     ]
    }
   ],
   "source": [
    "# long time to run\n",
    "data = DataLoader(\"usa.csv\")"
   ]
  },
  {
   "cell_type": "code",
   "execution_count": 3,
   "metadata": {
    "collapsed": false
   },
   "outputs": [
    {
     "name": "stderr",
     "output_type": "stream",
     "text": [
      "  0%|          | 0/28 [00:00<?, ?it/s]"
     ]
    },
    {
     "name": "stdout",
     "output_type": "stream",
     "text": [
      "fit\n"
     ]
    },
    {
     "name": "stderr",
     "output_type": "stream",
     "text": [
      "  4%|▎         | 1/28 [01:37<43:50, 97.42s/it]"
     ]
    },
    {
     "name": "stdout",
     "output_type": "stream",
     "text": [
      "0.9166140940169483 0.15484202121592336\n",
      "fit\n"
     ]
    },
    {
     "name": "stderr",
     "output_type": "stream",
     "text": [
      "  7%|▋         | 2/28 [03:05<39:53, 92.06s/it]"
     ]
    },
    {
     "name": "stdout",
     "output_type": "stream",
     "text": [
      "0.9119578974350758 0.16323861609796694\n",
      "fit\n"
     ]
    },
    {
     "name": "stderr",
     "output_type": "stream",
     "text": [
      " 11%|█         | 3/28 [04:51<40:54, 98.20s/it]"
     ]
    },
    {
     "name": "stdout",
     "output_type": "stream",
     "text": [
      "0.9102050740439629 0.15680512016718914\n",
      "fit\n"
     ]
    },
    {
     "name": "stderr",
     "output_type": "stream",
     "text": [
      " 14%|█▍        | 4/28 [08:51<1:01:45, 154.38s/it]"
     ]
    },
    {
     "name": "stdout",
     "output_type": "stream",
     "text": [
      "0.9083909800799141 0.15403920504646273\n",
      "fit\n"
     ]
    },
    {
     "name": "stderr",
     "output_type": "stream",
     "text": [
      " 18%|█▊        | 5/28 [10:33<51:58, 135.57s/it]  "
     ]
    },
    {
     "name": "stdout",
     "output_type": "stream",
     "text": [
      "0.9062157750817865 0.1612113998545262\n",
      "fit\n"
     ]
    },
    {
     "name": "stderr",
     "output_type": "stream",
     "text": [
      " 21%|██▏       | 6/28 [12:23<46:30, 126.86s/it]"
     ]
    },
    {
     "name": "stdout",
     "output_type": "stream",
     "text": [
      "0.9047706961510321 0.1557377049180328\n",
      "fit\n"
     ]
    },
    {
     "name": "stderr",
     "output_type": "stream",
     "text": [
      " 25%|██▌       | 7/28 [14:25<43:48, 125.19s/it]"
     ]
    },
    {
     "name": "stdout",
     "output_type": "stream",
     "text": [
      "0.906711593727182 0.157104235506158\n",
      "fit\n"
     ]
    },
    {
     "name": "stderr",
     "output_type": "stream",
     "text": [
      " 29%|██▊       | 8/28 [16:25<41:08, 123.41s/it]"
     ]
    },
    {
     "name": "stdout",
     "output_type": "stream",
     "text": [
      "0.9037665167784793 0.15243016308735668\n",
      "fit\n"
     ]
    },
    {
     "name": "stderr",
     "output_type": "stream",
     "text": [
      " 32%|███▏      | 9/28 [18:12<37:31, 118.49s/it]"
     ]
    },
    {
     "name": "stdout",
     "output_type": "stream",
     "text": [
      "0.9021719075357811 0.15214101308644173\n",
      "fit\n"
     ]
    },
    {
     "name": "stderr",
     "output_type": "stream",
     "text": [
      " 36%|███▌      | 10/28 [19:51<33:42, 112.34s/it]"
     ]
    },
    {
     "name": "stdout",
     "output_type": "stream",
     "text": [
      "0.901387646692143 0.15095271004047783\n",
      "fit\n"
     ]
    },
    {
     "name": "stderr",
     "output_type": "stream",
     "text": [
      " 39%|███▉      | 11/28 [21:27<30:22, 107.19s/it]"
     ]
    },
    {
     "name": "stdout",
     "output_type": "stream",
     "text": [
      "0.901790277698904 0.1475266942689039\n",
      "fit\n"
     ]
    },
    {
     "name": "stderr",
     "output_type": "stream",
     "text": [
      " 43%|████▎     | 12/28 [22:57<27:11, 101.98s/it]"
     ]
    },
    {
     "name": "stdout",
     "output_type": "stream",
     "text": [
      "0.9044870053427511 0.16222616933096506\n",
      "fit\n"
     ]
    },
    {
     "name": "stderr",
     "output_type": "stream",
     "text": [
      " 46%|████▋     | 13/28 [24:20<24:04, 96.31s/it] "
     ]
    },
    {
     "name": "stdout",
     "output_type": "stream",
     "text": [
      "0.9033180547611951 0.15807978363759298\n",
      "fit\n"
     ]
    },
    {
     "name": "stderr",
     "output_type": "stream",
     "text": [
      " 50%|█████     | 14/28 [25:44<21:36, 92.58s/it]"
     ]
    },
    {
     "name": "stdout",
     "output_type": "stream",
     "text": [
      "0.9071776427870799 0.14279411764705882\n",
      "fit\n"
     ]
    }
   ],
   "source": [
    "\n",
    "YEAR = 10000\n",
    "test_accuracy_list= [ ]\n",
    "train_accuracy_list= [ ]\n",
    "\n",
    "for train_start in tqdm(range(19800101, 20080101, YEAR)):\n",
    "    train_end = train_start + 10 * YEAR\n",
    "    test_start = train_end\n",
    "    test_end = test_start + 1 * YEAR\n",
    "\n",
    "    # let validation choose the best lambda from grid search\n",
    "    train_accuracy,test_accuracy= RandomForest.validate(data, train_start, train_end, test_start, test_end)\n",
    "    print(train_accuracy,test_accuracy)\n",
    "    train_accuracy_list.append(train_accuracy)\n",
    "    test_accuracy_list.append(test_accuracy)\n"
   ]
  },
  {
   "cell_type": "code",
   "execution_count": null,
   "metadata": {},
   "outputs": [
    {
     "data": {
      "text/plain": [
       "[0.15484202121592336,\n",
       " 0.16323861609796694,\n",
       " 0.15680512016718914,\n",
       " 0.15403920504646273,\n",
       " 0.1612113998545262,\n",
       " 0.1557377049180328,\n",
       " 0.157104235506158,\n",
       " 0.15243016308735668,\n",
       " 0.15214101308644173,\n",
       " 0.15095271004047783,\n",
       " 0.1475266942689039,\n",
       " 0.16222616933096506,\n",
       " 0.15807978363759298,\n",
       " 0.14279411764705882,\n",
       " 0.15742652899126292,\n",
       " 0.1393199075602509,\n",
       " 0.145723516408774,\n",
       " 0.14336118848653667,\n",
       " 0.1430473654175385,\n",
       " 0.14998029168309027,\n",
       " 0.1312319736299959,\n",
       " 0.15529247910863508,\n",
       " 0.15445598687807546,\n",
       " 0.15135446685878962,\n",
       " 0.15338042381432895,\n",
       " 0.15240294414778469,\n",
       " 0.1492783233375074,\n",
       " 0.16014932928372563]"
      ]
     },
     "execution_count": 6,
     "metadata": {},
     "output_type": "execute_result"
    }
   ],
   "source": [
    "test_accuracy_list"
   ]
  },
  {
   "cell_type": "code",
   "execution_count": null,
   "metadata": {},
   "outputs": [
    {
     "data": {
      "text/plain": [
       "[0.9166140940169483,\n",
       " 0.9119578974350758,\n",
       " 0.9102050740439629,\n",
       " 0.9083909800799141,\n",
       " 0.9062157750817865,\n",
       " 0.9047706961510321,\n",
       " 0.906711593727182,\n",
       " 0.9037665167784793,\n",
       " 0.9021719075357811,\n",
       " 0.901387646692143,\n",
       " 0.901790277698904,\n",
       " 0.9044870053427511,\n",
       " 0.9033180547611951,\n",
       " 0.9071776427870799,\n",
       " 0.9070087459248792,\n",
       " 0.9069189852289067,\n",
       " 0.9090261412834987,\n",
       " 0.9124343675417661,\n",
       " 0.9099467440982304,\n",
       " 0.9093514818632366,\n",
       " 0.9073865709767668,\n",
       " 0.9042868302844866,\n",
       " 0.9038693972047733,\n",
       " 0.9003306968498568,\n",
       " 0.8953401939245775,\n",
       " 0.8974748637654463,\n",
       " 0.8986633765165536,\n",
       " 0.8977467563262278]"
      ]
     },
     "execution_count": 7,
     "metadata": {},
     "output_type": "execute_result"
    }
   ],
   "source": [
    "train_accuracy_list"
   ]
  },
  {
   "cell_type": "code",
   "execution_count": null,
   "metadata": {},
   "outputs": [
    {
     "data": {
      "image/png": "[encoded data removed]",
      "text/plain": [
       "<Figure size 432x288 with 1 Axes>"
      ]
     },
     "metadata": {
      "needs_background": "light"
     },
     "output_type": "display_data"
    }
   ],
   "source": [
    "test_years = list(range(1990, 2018))\n",
    "\n",
    "pyplot.plot(test_years, test_accuracy_list, label=\"accuracy in test years\")\n",
    "pyplot.legend()\n",
    "pyplot.show()"
   ]
  }
 ],
 "metadata": {
  "kernelspec": {
   "display_name": "Python 3",
   "language": "python",
   "name": "python3"
  },
  "language_info": {
   "codemirror_mode": {
    "name": "ipython",
    "version": 3
   },
   "file_extension": ".py",
   "mimetype": "text/x-python",
   "name": "python",
   "nbconvert_exporter": "python",
   "pygments_lexer": "ipython3",
   "version": "3.9.12"
  }
 },
 "nbformat": 4,
 "nbformat_minor": 0
}
