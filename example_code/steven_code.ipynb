{
 "cells": [
  {
   "cell_type": "code",
   "execution_count": 47,
   "metadata": {
    "collapsed": true
   },
   "outputs": [],
   "source": [
    "import cvxpy as cp\n",
    "import numpy as np\n",
    "import matplotlib.pyplot as plt\n",
    "import pandas as pd\n",
    "import os\n",
    "from sklearn import linear_model\n",
    "#from sklearn.linear_model import LinearRegression\n",
    "from sklearn.metrics import mean_squared_error\n",
    "from sklearn.metrics import r2_score\n",
    "from sklearn.linear_model import LassoCV, RidgeCV, ElasticNetCV\n",
    "from dask import dataframe as ddf\n",
    "from matplotlib import pyplot"
   ]
  },
  {
   "cell_type": "code",
   "execution_count": 23,
   "outputs": [],
   "source": [
    "data = ddf.read_csv(\"/Users/shoutianze/Desktop/F23/36490/36490-F23-Group1/data/usa.csv\", dtype={'adjfct': 'float64',\n",
    "                                                                                                'gvkey': 'float64',\n",
    "                                                                                                'iid': 'object',\n",
    "                                                                                                'naics': 'float64',\n",
    "                                                                                                'sic': 'float64',\n",
    "                                                                                                'tvol': 'float64',\n",
    "                                                                                                'crsp_exchcd': 'float64',\n",
    "                                                                                                'crsp_shrcd': 'float64',\n",
    "                                                                                                'fx': 'float64',\n",
    "                                                                                                'permco': 'float64',\n",
    "                                                                                                'permno': 'float64',\n",
    "                                                                                                'ret_lag_dif': 'float64'})\n",
    "data = data.compute()"
   ],
   "metadata": {
    "collapsed": false
   }
  },
  {
   "cell_type": "code",
   "execution_count": 24,
   "outputs": [],
   "source": [
    "## DATA TRANSFORMATION\n",
    "\n",
    "#define start date and end date of training set\n",
    "train_start = 19900000\n",
    "train_end = 20000000\n",
    "\n",
    "#define start date and end date of test set\n",
    "test_start = 20000000\n",
    "test_end = 20220000\n",
    "\n",
    "#exclude data that's not during the period\n",
    "data = data[(data[\"date\"] > train_start) & (data[\"date\"] < test_end)]\n",
    "\n",
    "#exclude observations with missing market equity in month t and missing return in month t+1\n",
    "data = data.dropna(subset=['me', 'ret_exc_lead1m'])\n",
    "\n",
    "#exclude nano caps\n",
    "data = data.loc[data['size_grp'] != 'nano']\n",
    "\n",
    "#delete observation with more than 5 out of the 21 characteristics missing\n",
    "cols = [\"be_me\", \"ret_12_1\", \"market_equity\", \"ret_1_0\", \"rvol_252d\", \"beta_252d\", \"qmj_safety\", \"rmax1_21d\", \"chcsho_12m\",\n",
    "        \"ni_me\", \"eq_dur\", \"ret_60_12\", \"ope_be\", \"gp_at\", \"ebit_sale\", \"at_gr1\", \"sale_gr1\", \"at_be\",\"cash_at\", \"age\", \"z_score\"]\n",
    "\n",
    "data[\"missing_num\"] = data[cols].isna().sum(1)\n",
    "data = data.loc[data['missing_num'] <= 5]\n",
    "\n",
    "#impute the missing characteristics by replacing them with the cross-sectional median\n",
    "for i in cols:\n",
    "    data[i] = data[i].astype(float)\n",
    "    data[i] = data[i].fillna(data.groupby('date')[i].transform('median'))\n",
    "\n",
    "cols1 = [\"permno\",\"date\",\"ret_exc_lead1m\", \"be_me\", \"ret_12_1\", \"market_equity\", \"ret_1_0\", \"rvol_252d\", \"beta_252d\",\n",
    "         \"qmj_safety\", \"rmax1_21d\", \"chcsho_12m\",\"ni_me\", \"eq_dur\", \"ret_60_12\", \"ope_be\", \"gp_at\", \"ebit_sale\", \"at_gr1\", \"sale_gr1\",\n",
    "         \"at_be\",\"cash_at\", \"age\", \"z_score\"]\n",
    "\n",
    "data1 = data[cols1]\n",
    "data1 = data1.dropna()\n",
    "\n",
    "#rank transformation\n",
    "#each characteristics is transformed into the cross-sectional rank\n",
    "for i in cols:\n",
    "    data1[i] = data1.groupby(\"date\")[i].rank(pct=True)\n",
    "\n",
    "#use df, store data1\n",
    "df = data1\n",
    "df.sort_values(by=['date', 'permno'], inplace=True)\n",
    "\n",
    "# lists of months\n",
    "train_month_list = df.date.unique()\n",
    "\n",
    "df_test = df[(df[\"date\"] > test_start) & (df[\"date\"] < test_end)]\n",
    "obj_month_list = df_test.date.unique()"
   ],
   "metadata": {
    "collapsed": false
   }
  },
  {
   "cell_type": "code",
   "execution_count": 25,
   "outputs": [
    {
     "name": "stderr",
     "output_type": "stream",
     "text": [
      "/var/folders/29/l7nrj2kj79s5n10vdwh2ywnc0000gn/T/ipykernel_86387/4015067490.py:40: DeprecationWarning: Conversion of an array with ndim > 0 to a scalar is deprecated, and will error in future. Ensure you extract a single element from your array before performing this operation. (Deprecated NumPy 1.25.)\n",
      "  intercept_list[1] = intercept.value\n"
     ]
    }
   ],
   "source": [
    "#optimization part\n",
    "def regularizer(beta):\n",
    "    return cp.norm1(beta)\n",
    "\n",
    "def loss_fn(X, Y, beta, intercept):\n",
    "    return (1.0 / X.shape[0]) *(cp.norm2(X @ beta + intercept - Y)**2)\n",
    "\n",
    "#objective function 1 - L1 penalty on the coefficient\n",
    "def objective_fn_initial(X, Y, beta, intercept, lambda1):\n",
    "    return loss_fn(X, Y, beta, intercept) + lambda1 * cp.norm1(beta)\n",
    "\n",
    "#coefficients, intercepts and objective values\n",
    "beta_list = np.zeros((len(cols), 3))\n",
    "intercept_list = np.zeros(3)\n",
    "objective_list = np.zeros(3)\n",
    "\n",
    "#set your own penalty parameters\n",
    "lambda1_value = 0.0005\n",
    "\n",
    "index = list(train_month_list).index(obj_month_list[0])\n",
    "data_train = df[(df[\"date\"] < train_month_list[index]) & (df[\"date\"] >=train_month_list[index-5])]\n",
    "X_train = data_train[cols].to_numpy()\n",
    "Y_train = data_train[\"ret_exc_lead1m\"].to_numpy()\n",
    "\n",
    "#sklearn\n",
    "model_lasso = linear_model.Lasso(alpha=lambda1_value/2)\n",
    "model_lasso.fit(X_train, Y_train)\n",
    "beta_list[:,0] = model_lasso.coef_\n",
    "intercept_list[0] = model_lasso.intercept_\n",
    "objective_list[0] = np.linalg.norm(model_lasso.coef_, ord=1)\n",
    "\n",
    "#cvx with objective function 1\n",
    "beta = cp.Variable(len(cols))\n",
    "intercept = cp.Variable(1)\n",
    "problem = cp.Problem(cp.Minimize(objective_fn_initial(X_train, Y_train, beta, intercept, lambda1_value)))\n",
    "problem.solve(solver = cp.SCS)\n",
    "#beta_list[:,2] = beta.value\n",
    "#Choose your own threshold here. I chose 0.0001.\n",
    "beta_list[:,1] = np.where(abs(beta.value) < 0.0001, 0, beta.value)\n",
    "intercept_list[1] = intercept.value\n",
    "objective_list[1] = problem.value\n",
    "objective_list[1] = np.linalg.norm(beta.value, ord=1)\n",
    "\n",
    "\n",
    "#The estimates in each column should be very close. Because there are the same model when lambda2_value = 0\n",
    "#Feel free to try different penalty parameters and write your own optimization problems."
   ],
   "metadata": {
    "collapsed": false
   }
  },
  {
   "cell_type": "markdown",
   "source": [
    "Below we try Grid CV with cvspy"
   ],
   "metadata": {
    "collapsed": false
   }
  },
  {
   "cell_type": "code",
   "execution_count": 52,
   "outputs": [
    {
     "name": "stderr",
     "output_type": "stream",
     "text": [
      "/var/folders/29/l7nrj2kj79s5n10vdwh2ywnc0000gn/T/ipykernel_86387/1276853670.py:26: RuntimeWarning: divide by zero encountered in log\n",
      "  log_lambdas = [np.log(lam) for lam in lambda_list]\n"
     ]
    },
    {
     "data": {
      "text/plain": "<Figure size 640x480 with 1 Axes>",
      "image/png": "[encoded data removed]"
     },
     "metadata": {},
     "output_type": "display_data"
    }
   ],
   "source": [
    "def test_loss_fn(X, Y, beta, intercept):\n",
    "    return (1.0 / X.shape[0]) *(np.linalg.norm(X @ beta + intercept - Y)**2)\n",
    "\n",
    "X_test = df_test[cols].to_numpy()\n",
    "Y_test = df_test[\"ret_exc_lead1m\"].to_numpy()\n",
    "\n",
    "lambda_list = [0, 0.000005, 0.00001, 0.00005, 0.0001, 0.0005, 0.001, 0.005, 0.01, 0.05, 0.1, 0.5, 1, 5, 10, 50, 100]\n",
    "train_objective_list = []\n",
    "train_objective_list_wo_penalty = []\n",
    "beta_list = []\n",
    "intercept_list = []\n",
    "test_objective_list = []\n",
    "\n",
    "for lambda_value in lambda_list:\n",
    "    beta = cp.Variable(len(cols))\n",
    "    intercept = cp.Variable(1)\n",
    "    problem = cp.Problem(cp.Minimize(objective_fn_initial(X_train, Y_train, beta, intercept, lambda_value)))\n",
    "    problem.solve(solver = cp.SCS)\n",
    "\n",
    "    beta_list.append(np.where(abs(beta.value) < 0.0001, 0, beta.value))\n",
    "    intercept_list.append(intercept.value)\n",
    "    train_objective_list.append(problem.value)\n",
    "    train_objective_list_wo_penalty.append(test_loss_fn(X_train, Y_train, beta.value, intercept.value))\n",
    "    test_objective_list.append(test_loss_fn(X_test, Y_test, beta.value, intercept.value))\n",
    "\n",
    "log_lambdas = [np.log(lam) for lam in lambda_list]\n",
    "pyplot.plot(log_lambdas, train_objective_list, label=\"Training loss\")\n",
    "pyplot.plot(log_lambdas, test_objective_list, label=\"Test/validation loss\")\n",
    "pyplot.plot(log_lambdas, train_objective_list_wo_penalty, label=\"Training loss w/o penalty\")\n",
    "pyplot.xlabel(\"log(lambda)\")\n",
    "pyplot.legend()\n",
    "pyplot.show()\n"
   ],
   "metadata": {
    "collapsed": false
   }
  },
  {
   "cell_type": "markdown",
   "source": [],
   "metadata": {
    "collapsed": false
   }
  },
  {
   "cell_type": "code",
   "execution_count": 44,
   "outputs": [
    {
     "data": {
      "text/plain": "0.028888676750403987"
     },
     "execution_count": 44,
     "metadata": {},
     "output_type": "execute_result"
    }
   ],
   "source": [
    "\n",
    "\n",
    "test_loss_fn(X_test, Y_test, beta.value, intercept.value)"
   ],
   "metadata": {
    "collapsed": false
   }
  }
 ],
 "metadata": {
  "kernelspec": {
   "display_name": "Python 3",
   "language": "python",
   "name": "python3"
  },
  "language_info": {
   "codemirror_mode": {
    "name": "ipython",
    "version": 2
   },
   "file_extension": ".py",
   "mimetype": "text/x-python",
   "name": "python",
   "nbconvert_exporter": "python",
   "pygments_lexer": "ipython2",
   "version": "2.7.6"
  }
 },
 "nbformat": 4,
 "nbformat_minor": 0
}
